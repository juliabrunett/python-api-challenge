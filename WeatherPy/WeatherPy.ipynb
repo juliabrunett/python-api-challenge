{
 "cells": [
  {
   "cell_type": "code",
   "execution_count": 2,
   "id": "extraordinary-yeast",
   "metadata": {},
   "outputs": [],
   "source": [
    "#!pip install citipy"
   ]
  },
  {
   "cell_type": "code",
   "execution_count": 3,
   "id": "rapid-smell",
   "metadata": {},
   "outputs": [],
   "source": [
    "import matplotlib.pyplot as plt\n",
    "import requests\n",
    "import pandas as pd\n",
    "import numpy as np\n",
    "import time\n",
    "from scipy.stats import linregress\n",
    "# Import api key\n",
    "from config import api_key\n",
    "# Import citipy for city names by long. and lat.\n",
    "from citipy import citipy"
   ]
  },
  {
   "cell_type": "code",
   "execution_count": 4,
   "id": "legislative-subdivision",
   "metadata": {},
   "outputs": [],
   "source": [
    "# Define ranges for longitude and latitude\n",
    "latitude_range = (-90,90)\n",
    "longitude_range = (-180,180)"
   ]
  },
  {
   "cell_type": "code",
   "execution_count": 16,
   "id": "demographic-today",
   "metadata": {},
   "outputs": [],
   "source": [
    "# Create lists for coordinates and cities\n",
    "lat_long_coord = []\n",
    "cities = []\n",
    "\n",
    "# Create random latitude and longitude combinations\n",
    "latitude = np.random.uniform(latitude_range[0], latitude_range[1], size=1500)\n",
    "longitude = np.random.uniform(longitude_range[0], longitude_range[1], size=1500)\n",
    "lat_long_coord = zip(latitude, longitude)\n",
    "\n",
    "# Build a for loop to find city names for random coordinates\n",
    "for lat_long in lat_long_coord:\n",
    "    city = citipy.nearest_city(lat_long[0], lat_long[1])\n",
    "    \n",
    "    # Add the city to a list if it is unique\n",
    "    if city not in cities:\n",
    "        cities.append(city)"
   ]
  },
  {
   "cell_type": "code",
   "execution_count": 17,
   "id": "medical-transaction",
   "metadata": {},
   "outputs": [
    {
     "data": {
      "text/plain": [
       "642"
      ]
     },
     "execution_count": 17,
     "metadata": {},
     "output_type": "execute_result"
    }
   ],
   "source": [
    "# Check length of the list\n",
    "len(cities)"
   ]
  },
  {
   "cell_type": "code",
   "execution_count": null,
   "id": "acquired-publicity",
   "metadata": {},
   "outputs": [],
   "source": [
    "# Create base url\n",
    "base_url = f\"http://api.openweathermap.org/data/2.5/weather?appid={api_key}\"\n",
    "# define units\n",
    "units = \"imperial\"\n",
    "\n",
    "# Build query url with units\n",
    "query_url = f\"{base_url}&units={units}&q=\""
   ]
  },
  {
   "cell_type": "code",
   "execution_count": null,
   "id": "pleased-tuition",
   "metadata": {},
   "outputs": [],
   "source": [
    "# Create lists for results\n",
    "temperature = []\n",
    "humidity = []\n",
    "cloudiness = []\n",
    "wind_speed = []"
   ]
  },
  {
   "cell_type": "code",
   "execution_count": null,
   "id": "hourly-seeking",
   "metadata": {},
   "outputs": [],
   "source": [
    "# Loop through cities to find results\n",
    "for city in cities:\n",
    "    \n",
    "    # Create url for city\n",
    "    full_url = f\"{query_url}{city}\"\n",
    "    \n",
    "    try:\n",
    "    # Find json response for city\n",
    "        response = requests.get(full_url).json()\n",
    "        city_number = response[\"id\"]\n",
    "        \n",
    "        # Find data to append for each city\n",
    "        temp = response[\"main\"][\"temp\"]\n",
    "        humid = response[\"main\"][\"humidity\"]\n",
    "        cloud = response[\"clouds\"][\"all\"]\n",
    "        wind = response[\"wind\"][\"speed\"]\n",
    "        \n",
    "         # Append results\n",
    "        print(f\"{city} found. City Number: {city_number}. Appending results.\")\n",
    "        \n",
    "        temperature.append()\n",
    "        humidity.append()\n",
    "        cloudiness.append()\n",
    "        wind_speed.append()\n",
    "        cities_reduced.append()\n",
    "    except:\n",
    "        print(f\"{city} not found.\")\n",
    "        "
   ]
  }
 ],
 "metadata": {
  "kernelspec": {
   "display_name": "Python [conda env:PythonData] *",
   "language": "python",
   "name": "conda-env-PythonData-py"
  },
  "language_info": {
   "codemirror_mode": {
    "name": "ipython",
    "version": 3
   },
   "file_extension": ".py",
   "mimetype": "text/x-python",
   "name": "python",
   "nbconvert_exporter": "python",
   "pygments_lexer": "ipython3",
   "version": "3.6.10"
  }
 },
 "nbformat": 4,
 "nbformat_minor": 5
}
