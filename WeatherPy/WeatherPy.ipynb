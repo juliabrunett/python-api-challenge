{
 "cells": [
  {
   "cell_type": "code",
   "execution_count": null,
   "id": "resistant-organization",
   "metadata": {},
   "outputs": [],
   "source": [
    "!pip install citipy"
   ]
  },
  {
   "cell_type": "code",
   "execution_count": null,
   "id": "rapid-smell",
   "metadata": {},
   "outputs": [],
   "source": [
    "import matplotlib.pyplot as plt\n",
    "import requests\n",
    "import pandas as pd\n",
    "from config import api_key\n",
    "from citipy import citipy"
   ]
  },
  {
   "cell_type": "code",
   "execution_count": null,
   "id": "hydraulic-damages",
   "metadata": {},
   "outputs": [],
   "source": [
    "# Create base url\n",
    "base_url = f\"http://api.openweathermap.org/data/2.5/weather?appid={api_key}\"\n",
    "# define units\n",
    "units = \"imperial\"\n",
    "\n",
    "# Build query url with units\n",
    "query_url = f\"{base_url}&units={units}&q=\""
   ]
  },
  {
   "cell_type": "code",
   "execution_count": null,
   "id": "separated-disco",
   "metadata": {},
   "outputs": [],
   "source": [
    "cities = []\n",
    "temperature = []\n",
    "humidity = []\n",
    "cloudiness = []\n",
    "wind_speed = []"
   ]
  },
  {
   "cell_type": "code",
   "execution_count": null,
   "id": "dominant-surgery",
   "metadata": {},
   "outputs": [],
   "source": [
    "for _ in range(0,501):\n",
    "    \n",
    "    # Find city and append it to a list\n",
    "    city_name = citipy.nearest_city(longitude, latitude)\n",
    "    cities.append(city_name)\n",
    "    \n",
    "    # Create url for city\n",
    "    full_url = f\"{query_url}{city_name}\"\n",
    "    # Find json response for city\n",
    "    response = requests.get(full_url).json()\n",
    "    \n",
    "    temp = \n",
    "    humid = \n",
    "    cloud = \n",
    "    wind = \n",
    "    \n",
    "    temperature.append()\n",
    "    humidity.append()\n",
    "    cloudiness.append()\n",
    "    wind_speed.append()\n",
    "    \n",
    "    \n",
    "    "
   ]
  }
 ],
 "metadata": {
  "kernelspec": {
   "display_name": "Python [conda env:PythonData] *",
   "language": "python",
   "name": "conda-env-PythonData-py"
  },
  "language_info": {
   "codemirror_mode": {
    "name": "ipython",
    "version": 3
   },
   "file_extension": ".py",
   "mimetype": "text/x-python",
   "name": "python",
   "nbconvert_exporter": "python",
   "pygments_lexer": "ipython3",
   "version": "3.6.10"
  }
 },
 "nbformat": 4,
 "nbformat_minor": 5
}
