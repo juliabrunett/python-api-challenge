{
 "cells": [
  {
   "cell_type": "code",
   "execution_count": 1,
   "id": "extraordinary-yeast",
   "metadata": {},
   "outputs": [],
   "source": [
    "#!pip install citipy"
   ]
  },
  {
   "cell_type": "code",
   "execution_count": 18,
   "id": "rapid-smell",
   "metadata": {},
   "outputs": [],
   "source": [
    "import matplotlib.pyplot as plt\n",
    "import requests\n",
    "import pandas as pd\n",
    "import numpy as np\n",
    "import time\n",
    "from scipy.stats import linregress\n",
    "# Import api key\n",
    "from config import api_key\n",
    "# Import citipy for city names by long. and lat.\n",
    "from citipy import citipy"
   ]
  },
  {
   "cell_type": "code",
   "execution_count": 19,
   "id": "legislative-subdivision",
   "metadata": {},
   "outputs": [],
   "source": [
    "# Define ranges for longitude and latitude\n",
    "latitude_range = (-90,90)\n",
    "longitude_range = (-180,180)"
   ]
  },
  {
   "cell_type": "code",
   "execution_count": 35,
   "id": "demographic-today",
   "metadata": {},
   "outputs": [],
   "source": [
    "# Create lists for coordinates and cities\n",
    "lat_long_coord = []\n",
    "cities = []\n",
    "\n",
    "# Create random latitude and longitude combinations - 1500 at the end\n",
    "latitude = np.random.uniform(latitude_range[0], latitude_range[1], size=10)\n",
    "longitude = np.random.uniform(longitude_range[0], longitude_range[1], size=10)\n",
    "lat_long_coord = zip(latitude, longitude)\n",
    "\n",
    "# Build a for loop to find city names for random coordinates\n",
    "for lat_long in lat_long_coord:\n",
    "    city = citipy.nearest_city(lat_long[0], lat_long[1])\n",
    "    city = city.city_name\n",
    "    \n",
    "    # Add the city to a list if it is unique\n",
    "    if city not in cities:\n",
    "        cities.append(city)"
   ]
  },
  {
   "cell_type": "code",
   "execution_count": 36,
   "id": "medical-transaction",
   "metadata": {},
   "outputs": [
    {
     "data": {
      "text/plain": [
       "10"
      ]
     },
     "execution_count": 36,
     "metadata": {},
     "output_type": "execute_result"
    }
   ],
   "source": [
    "# Check length of the list\n",
    "len(cities)\n",
    "#print(cities)"
   ]
  },
  {
   "cell_type": "code",
   "execution_count": 37,
   "id": "acquired-publicity",
   "metadata": {},
   "outputs": [],
   "source": [
    "# Create base url\n",
    "base_url = f\"http://api.openweathermap.org/data/2.5/weather?appid={api_key}\"\n",
    "# define units\n",
    "units = \"imperial\"\n",
    "\n",
    "# Build query url with units\n",
    "query_url = f\"{base_url}&units={units}&q=\""
   ]
  },
  {
   "cell_type": "code",
   "execution_count": 38,
   "id": "pleased-tuition",
   "metadata": {},
   "outputs": [],
   "source": [
    "# Create lists for results\n",
    "temperature = []\n",
    "humidity = []\n",
    "cloudiness = []\n",
    "wind_speed = []\n",
    "countries = []\n",
    "dates = []\n",
    "cities_reduced = []\n",
    "latitude_reduced = []\n",
    "longitude_reduced = []"
   ]
  },
  {
   "cell_type": "raw",
   "id": "original-british",
   "metadata": {},
   "source": [
    "#full_url = f\"{query_url}Sacramento\"\n",
    "#response = requests.get(full_url).json()\n",
    "\n",
    "#from pprint import pprint\n",
    "#pprint(response)"
   ]
  },
  {
   "cell_type": "code",
   "execution_count": 39,
   "id": "hourly-seeking",
   "metadata": {},
   "outputs": [
    {
     "name": "stdout",
     "output_type": "stream",
     "text": [
      "City 1 of 10: qaanaaq found. City Number: 3831208. Appending results.\n",
      "City 2 of 10: puerto madero found. City Number: 3520989. Appending results.\n",
      "City 3 of 10: baghdad found. City Number: 98182. Appending results.\n",
      "City 4 of 10: butaritari found. City Number: 2110227. Appending results.\n",
      "City 5 of 10: albany found. City Number: 5106841. Appending results.\n",
      "City 6 of 10: dikson found. City Number: 1507390. Appending results.\n",
      "City 7 of 10: vardo found. City Number: 777019. Appending results.\n",
      "City 8 of 10: mataura found. City Number: 6201424. Appending results.\n",
      "City 9 of 10: hualmay found. City Number: 3939761. Appending results.\n",
      "City 10 of 10: souillac found. City Number: 933995. Appending results.\n"
     ]
    }
   ],
   "source": [
    "# Loop through cities to find results\n",
    "index = 0\n",
    "\n",
    "for city in cities:\n",
    "    \n",
    "    # Create url for city\n",
    "    full_url = f\"{query_url}{city}\"\n",
    "    index += 1\n",
    "    \n",
    "    try:\n",
    "    # Find json response for city\n",
    "        response = requests.get(full_url).json()\n",
    "        city_number = response[\"id\"]\n",
    "        \n",
    "        # Find data to append for each city\n",
    "        lat = response[\"coord\"][\"lat\"]\n",
    "        long = response[\"coord\"][\"lon\"]\n",
    "        temp_max = response[\"main\"][\"temp_max\"]\n",
    "        humid = response[\"main\"][\"humidity\"]\n",
    "        clouds = response[\"clouds\"][\"all\"]\n",
    "        wind = response[\"wind\"][\"speed\"]\n",
    "        country = response[\"sys\"][\"country\"]\n",
    "        weather_date = response[\"dt\"]\n",
    "        \n",
    "        \n",
    "         # Print text about: Append results\n",
    "        print(f\"City {index} of {len(cities)}: {city} found. City Number: {city_number}. Appending results.\")\n",
    "        \n",
    "        # Append all results\n",
    "        cities_reduced.append(city)\n",
    "        latitude_reduced.append(lat)\n",
    "        longitude_reduced.append(long)\n",
    "        temperature.append(temp_max)\n",
    "        humidity.append(humid)\n",
    "        cloudiness.append(clouds)\n",
    "        wind_speed.append(wind)\n",
    "        countries.append(country)\n",
    "        dates.append(weather_date)\n",
    "        \n",
    "        \n",
    "    except KeyError:\n",
    "        print(f\"{city} not found.\")\n",
    "        "
   ]
  },
  {
   "cell_type": "code",
   "execution_count": 42,
   "id": "south-reservoir",
   "metadata": {},
   "outputs": [],
   "source": [
    "# Create DataFrame from series\n",
    "weather_data = pd.DataFrame({\n",
    "    \"City\": cities_reduced,\n",
    "    \"Latitude\": latitude_reduced,\n",
    "    \"Longitude\": longitude_reduced,\n",
    "    \"Max Temp.\": temperature,\n",
    "    \"Humidity\": humidity,\n",
    "    \"Cloudiness\": cloudiness,\n",
    "    \"Wind Speed\": wind_speed,\n",
    "    \"Country\": countries,\n",
    "    \"Date\": dates\n",
    "})\n",
    "#weather_data = pd.DataFrame(weather_data)\n"
   ]
  },
  {
   "cell_type": "code",
   "execution_count": 53,
   "id": "patent-break",
   "metadata": {},
   "outputs": [],
   "source": [
    "# Convert Unix timestamp to readable date using datetime module\n",
    "from datetime import datetime\n",
    "\n",
    "weather_data[\"Date Converted\"] = pd.to_datetime(weather_data[\"Date\"], unit='s')"
   ]
  },
  {
   "cell_type": "code",
   "execution_count": 54,
   "id": "colored-officer",
   "metadata": {},
   "outputs": [
    {
     "data": {
      "text/html": [
       "<div>\n",
       "<style scoped>\n",
       "    .dataframe tbody tr th:only-of-type {\n",
       "        vertical-align: middle;\n",
       "    }\n",
       "\n",
       "    .dataframe tbody tr th {\n",
       "        vertical-align: top;\n",
       "    }\n",
       "\n",
       "    .dataframe thead th {\n",
       "        text-align: right;\n",
       "    }\n",
       "</style>\n",
       "<table border=\"1\" class=\"dataframe\">\n",
       "  <thead>\n",
       "    <tr style=\"text-align: right;\">\n",
       "      <th></th>\n",
       "      <th>City</th>\n",
       "      <th>Latitude</th>\n",
       "      <th>Longitude</th>\n",
       "      <th>Max Temp.</th>\n",
       "      <th>Humidity</th>\n",
       "      <th>Cloudiness</th>\n",
       "      <th>Wind Speed</th>\n",
       "      <th>Country</th>\n",
       "      <th>Date</th>\n",
       "      <th>Date Converted</th>\n",
       "    </tr>\n",
       "  </thead>\n",
       "  <tbody>\n",
       "    <tr>\n",
       "      <th>0</th>\n",
       "      <td>qaanaaq</td>\n",
       "      <td>77.4840</td>\n",
       "      <td>-69.3632</td>\n",
       "      <td>7.92</td>\n",
       "      <td>78</td>\n",
       "      <td>100</td>\n",
       "      <td>6.67</td>\n",
       "      <td>GL</td>\n",
       "      <td>1618863353</td>\n",
       "      <td>2021-04-19 20:15:53</td>\n",
       "    </tr>\n",
       "    <tr>\n",
       "      <th>1</th>\n",
       "      <td>puerto madero</td>\n",
       "      <td>14.7208</td>\n",
       "      <td>-92.4215</td>\n",
       "      <td>91.40</td>\n",
       "      <td>49</td>\n",
       "      <td>20</td>\n",
       "      <td>12.66</td>\n",
       "      <td>MX</td>\n",
       "      <td>1618863590</td>\n",
       "      <td>2021-04-19 20:19:50</td>\n",
       "    </tr>\n",
       "    <tr>\n",
       "      <th>2</th>\n",
       "      <td>baghdad</td>\n",
       "      <td>33.3406</td>\n",
       "      <td>44.4009</td>\n",
       "      <td>84.20</td>\n",
       "      <td>28</td>\n",
       "      <td>0</td>\n",
       "      <td>9.22</td>\n",
       "      <td>IQ</td>\n",
       "      <td>1618863591</td>\n",
       "      <td>2021-04-19 20:19:51</td>\n",
       "    </tr>\n",
       "    <tr>\n",
       "      <th>3</th>\n",
       "      <td>butaritari</td>\n",
       "      <td>3.0707</td>\n",
       "      <td>172.7902</td>\n",
       "      <td>83.05</td>\n",
       "      <td>75</td>\n",
       "      <td>91</td>\n",
       "      <td>13.71</td>\n",
       "      <td>KI</td>\n",
       "      <td>1618863591</td>\n",
       "      <td>2021-04-19 20:19:51</td>\n",
       "    </tr>\n",
       "    <tr>\n",
       "      <th>4</th>\n",
       "      <td>albany</td>\n",
       "      <td>42.6001</td>\n",
       "      <td>-73.9662</td>\n",
       "      <td>60.01</td>\n",
       "      <td>44</td>\n",
       "      <td>100</td>\n",
       "      <td>4.63</td>\n",
       "      <td>US</td>\n",
       "      <td>1618863558</td>\n",
       "      <td>2021-04-19 20:19:18</td>\n",
       "    </tr>\n",
       "    <tr>\n",
       "      <th>5</th>\n",
       "      <td>dikson</td>\n",
       "      <td>73.5069</td>\n",
       "      <td>80.5464</td>\n",
       "      <td>-4.31</td>\n",
       "      <td>96</td>\n",
       "      <td>16</td>\n",
       "      <td>7.99</td>\n",
       "      <td>RU</td>\n",
       "      <td>1618863352</td>\n",
       "      <td>2021-04-19 20:15:52</td>\n",
       "    </tr>\n",
       "    <tr>\n",
       "      <th>6</th>\n",
       "      <td>vardo</td>\n",
       "      <td>70.3705</td>\n",
       "      <td>31.1107</td>\n",
       "      <td>41.00</td>\n",
       "      <td>52</td>\n",
       "      <td>0</td>\n",
       "      <td>18.41</td>\n",
       "      <td>NO</td>\n",
       "      <td>1618863592</td>\n",
       "      <td>2021-04-19 20:19:52</td>\n",
       "    </tr>\n",
       "    <tr>\n",
       "      <th>7</th>\n",
       "      <td>mataura</td>\n",
       "      <td>-46.1927</td>\n",
       "      <td>168.8643</td>\n",
       "      <td>43.70</td>\n",
       "      <td>89</td>\n",
       "      <td>0</td>\n",
       "      <td>3.44</td>\n",
       "      <td>NZ</td>\n",
       "      <td>1618863514</td>\n",
       "      <td>2021-04-19 20:18:34</td>\n",
       "    </tr>\n",
       "    <tr>\n",
       "      <th>8</th>\n",
       "      <td>hualmay</td>\n",
       "      <td>-11.0964</td>\n",
       "      <td>-77.6139</td>\n",
       "      <td>73.13</td>\n",
       "      <td>71</td>\n",
       "      <td>64</td>\n",
       "      <td>10.45</td>\n",
       "      <td>PE</td>\n",
       "      <td>1618863593</td>\n",
       "      <td>2021-04-19 20:19:53</td>\n",
       "    </tr>\n",
       "    <tr>\n",
       "      <th>9</th>\n",
       "      <td>souillac</td>\n",
       "      <td>-20.5167</td>\n",
       "      <td>57.5167</td>\n",
       "      <td>77.00</td>\n",
       "      <td>94</td>\n",
       "      <td>75</td>\n",
       "      <td>10.22</td>\n",
       "      <td>MU</td>\n",
       "      <td>1618863519</td>\n",
       "      <td>2021-04-19 20:18:39</td>\n",
       "    </tr>\n",
       "  </tbody>\n",
       "</table>\n",
       "</div>"
      ],
      "text/plain": [
       "            City  Latitude  Longitude  Max Temp.  Humidity  Cloudiness  \\\n",
       "0        qaanaaq   77.4840   -69.3632       7.92        78         100   \n",
       "1  puerto madero   14.7208   -92.4215      91.40        49          20   \n",
       "2        baghdad   33.3406    44.4009      84.20        28           0   \n",
       "3     butaritari    3.0707   172.7902      83.05        75          91   \n",
       "4         albany   42.6001   -73.9662      60.01        44         100   \n",
       "5         dikson   73.5069    80.5464      -4.31        96          16   \n",
       "6          vardo   70.3705    31.1107      41.00        52           0   \n",
       "7        mataura  -46.1927   168.8643      43.70        89           0   \n",
       "8        hualmay  -11.0964   -77.6139      73.13        71          64   \n",
       "9       souillac  -20.5167    57.5167      77.00        94          75   \n",
       "\n",
       "   Wind Speed Country        Date      Date Converted  \n",
       "0        6.67      GL  1618863353 2021-04-19 20:15:53  \n",
       "1       12.66      MX  1618863590 2021-04-19 20:19:50  \n",
       "2        9.22      IQ  1618863591 2021-04-19 20:19:51  \n",
       "3       13.71      KI  1618863591 2021-04-19 20:19:51  \n",
       "4        4.63      US  1618863558 2021-04-19 20:19:18  \n",
       "5        7.99      RU  1618863352 2021-04-19 20:15:52  \n",
       "6       18.41      NO  1618863592 2021-04-19 20:19:52  \n",
       "7        3.44      NZ  1618863514 2021-04-19 20:18:34  \n",
       "8       10.45      PE  1618863593 2021-04-19 20:19:53  \n",
       "9       10.22      MU  1618863519 2021-04-19 20:18:39  "
      ]
     },
     "execution_count": 54,
     "metadata": {},
     "output_type": "execute_result"
    }
   ],
   "source": [
    "weather_data"
   ]
  },
  {
   "cell_type": "code",
   "execution_count": 45,
   "id": "frequent-utilization",
   "metadata": {},
   "outputs": [
    {
     "data": {
      "text/plain": [
       "[1618863353,\n",
       " 1618863590,\n",
       " 1618863591,\n",
       " 1618863591,\n",
       " 1618863558,\n",
       " 1618863352,\n",
       " 1618863592,\n",
       " 1618863514,\n",
       " 1618863593,\n",
       " 1618863519]"
      ]
     },
     "execution_count": 45,
     "metadata": {},
     "output_type": "execute_result"
    }
   ],
   "source": [
    "dates"
   ]
  },
  {
   "cell_type": "code",
   "execution_count": 49,
   "id": "sound-injury",
   "metadata": {},
   "outputs": [
    {
     "name": "stdout",
     "output_type": "stream",
     "text": [
      "10\n",
      "10\n",
      "10\n",
      "10\n",
      "10\n",
      "10\n",
      "10\n",
      "10\n",
      "10\n"
     ]
    }
   ],
   "source": [
    "print(len(cities_reduced))\n",
    "print(len(latitude))\n",
    "print(len(longitude))\n",
    "print(len(temperature))\n",
    "print(len(humidity))\n",
    "print(len(cloudiness))\n",
    "print(len(wind_speed))\n",
    "print(len(countries))\n",
    "print(len(dates))\n"
   ]
  },
  {
   "cell_type": "code",
   "execution_count": null,
   "id": "second-cedar",
   "metadata": {},
   "outputs": [],
   "source": [
    "# Output dataframe to csv\n",
    "weather_data.to_csv(\"./Output_Data/cities_weather_data.csv\", encoding=\"utf-8\")"
   ]
  },
  {
   "cell_type": "code",
   "execution_count": null,
   "id": "stopped-broadcast",
   "metadata": {},
   "outputs": [],
   "source": [
    "# Bring dataframe back in\n",
    "weather_data_df = pd.read_csv(\"./Output_Data/cities_weather_data.csv\")"
   ]
  }
 ],
 "metadata": {
  "kernelspec": {
   "display_name": "Python [conda env:PythonData] *",
   "language": "python",
   "name": "conda-env-PythonData-py"
  },
  "language_info": {
   "codemirror_mode": {
    "name": "ipython",
    "version": 3
   },
   "file_extension": ".py",
   "mimetype": "text/x-python",
   "name": "python",
   "nbconvert_exporter": "python",
   "pygments_lexer": "ipython3",
   "version": "3.6.10"
  }
 },
 "nbformat": 4,
 "nbformat_minor": 5
}
